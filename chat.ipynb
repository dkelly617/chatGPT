{
 "cells": [
  {
   "cell_type": "code",
   "execution_count": 16,
   "metadata": {},
   "outputs": [],
   "source": [
    "import openai\n",
    "import os\n",
    "\n",
    "from dotenv import load_dotenv, find_dotenv\n",
    "_ = load_dotenv(find_dotenv())\n",
    "\n",
    "openai.api_key = os.environ.get(\"OPENAI_API_KEY\")\n",
    "\n",
    "\n"
   ]
  },
  {
   "cell_type": "code",
   "execution_count": 17,
   "metadata": {},
   "outputs": [],
   "source": [
    "def get_completion_old(prompt, model=\"gpt-4\"):\n",
    "    response = openai.Completion.create(\n",
    "        engine=\"text-davinci-002\",\n",
    "        prompt=\"Translate the following English text to French: '{}'\",\n",
    "        max_tokens=60)\n",
    "\n",
    "    return response.choices[0].text.strip()\n",
    "\n"
   ]
  },
  {
   "cell_type": "code",
   "execution_count": 18,
   "metadata": {},
   "outputs": [],
   "source": [
    "def get_completion(prompt, model=\"text-davinci-002\"):\n",
    "    message = [{\"role\":\"user\", \"content\":prompt}]\n",
    "    response = openai.completions.create(\n",
    "        model = model,\n",
    "        prompt = prompt,\n",
    "        temperature = 0,\n",
    "    )\n",
    "    return response.choices[0].text.strip()\n",
    "    #return response.choices[0].message[\"content\"]"
   ]
  },
  {
   "cell_type": "code",
   "execution_count": 19,
   "metadata": {},
   "outputs": [
    {
     "name": "stdout",
     "output_type": "stream",
     "text": [
      "The author suggests that users should be clear and specific when providing instructions to a\n"
     ]
    }
   ],
   "source": [
    "text = f\"\"\"\n",
    "You should express what you want to the model to do by \\\n",
    "providing instructions athat are clear and \\\n",
    "specifc as you can possible make them. \\\n",
    "This will guide the model towards the desired output, \\\n",
    "and reduce the chances of receiving irrelevent \\\n",
    "or incorrect responses. Don't confuse writing a \\\n",
    "clear prompt with writing a short one \\\n",
    "In many cases, longer prompts provide more clarity \\\n",
    "and context for the model, which can lead to \\\n",
    "more detailes and relevent outputs\n",
    "\"\"\"\n",
    "prompt = f\"\"\"\n",
    "Summarize the text delimitied by triples backticks inot a single sentence.\n",
    "```{text}```\n",
    "\"\"\"\n",
    "response = get_completion(prompt)\n",
    "print (response)"
   ]
  }
 ],
 "metadata": {
  "kernelspec": {
   "display_name": "Python 3",
   "language": "python",
   "name": "python3"
  },
  "language_info": {
   "codemirror_mode": {
    "name": "ipython",
    "version": 3
   },
   "file_extension": ".py",
   "mimetype": "text/x-python",
   "name": "python",
   "nbconvert_exporter": "python",
   "pygments_lexer": "ipython3",
   "version": "3.11.4"
  }
 },
 "nbformat": 4,
 "nbformat_minor": 2
}
